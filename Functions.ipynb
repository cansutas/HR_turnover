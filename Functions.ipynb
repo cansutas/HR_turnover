{
 "cells": [
  {
   "cell_type": "markdown",
   "metadata": {},
   "source": [
    "Functions that are used in the rest of the repository"
   ]
  },
  {
   "cell_type": "markdown",
   "metadata": {},
   "source": [
    "fill_month function adds a row for each month for each employee where it's missing. Then it populates these new rows using ffill and bfill"
   ]
  },
  {
   "cell_type": "code",
   "execution_count": null,
   "metadata": {},
   "outputs": [],
   "source": [
    "def fill_month(df1, start_date, end_date, freq):\n",
    "    month_dict={'': 0,\n",
    "     'jan': 1,\n",
    "     'feb': 2,\n",
    "     'mar': 3,\n",
    "     'apr': 4,\n",
    "     'mai': 5,\n",
    "     'jun': 6,\n",
    "     'jul': 7,\n",
    "     'aug': 8,\n",
    "     'sep': 9,\n",
    "     'okt': 10,\n",
    "     'nov': 11,\n",
    "     'des': 12}\n",
    "     \n",
    "    dates = df1.date.astype(str).str.split('.',expand=True)\n",
    "    dates.iloc[:,-2]= dates.iloc[:,-2].replace(month_dict)\n",
    "    df1['date'] = dates.iloc[:,-2].astype(str) + '/' + dates.iloc[:,-1].astype(str).map(lambda x: str(x)[-2:])\n",
    "    \n",
    "    #___reformat the date columns\n",
    "    df1['date'] = pd.to_datetime(df1['date'], format='%m/%y')\n",
    "    \n",
    "    #create all months in the time range\n",
    "    all_months=pd.date_range(start=start_date, end=end_date, freq=freq)\n",
    "    id_list=list(df1['id'].unique())\n",
    "    \n",
    "    #ful index with all combinations of date and id\n",
    "    full_index = pd.MultiIndex.from_product([id_list, all_months],names=['id', 'date'])\n",
    "    #create a new df, filling the nan values based on the previous records \n",
    "    #!!!important that set_index and full index have the same rekkefølge\n",
    "    df_t1=df1.set_index(['id','date']).reindex(full_index).reset_index()\n",
    "    return df_t1\n",
    "\n",
    "\n",
    "\n"
   ]
  }
 ],
 "metadata": {
  "kernelspec": {
   "display_name": "Python 3",
   "language": "python",
   "name": "python3"
  },
  "language_info": {
   "codemirror_mode": {
    "name": "ipython",
    "version": 3
   },
   "file_extension": ".py",
   "mimetype": "text/x-python",
   "name": "python",
   "nbconvert_exporter": "python",
   "pygments_lexer": "ipython3",
   "version": "3.6.7"
  }
 },
 "nbformat": 4,
 "nbformat_minor": 2
}
