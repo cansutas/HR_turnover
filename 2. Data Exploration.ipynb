{
 "cells": [
  {
   "cell_type": "markdown",
   "metadata": {},
   "source": [
    "# Data Exploration\n",
    "We'll visualise the data to explore the relationships between the variables.\n",
    "## Setup"
   ]
  },
  {
   "cell_type": "code",
   "execution_count": null,
   "metadata": {},
   "outputs": [],
   "source": [
    "import pandas as pd\n",
    "import numpy as np\n",
    "import os\n",
    "import matplotlib.pyplot as plt\n",
    "import seaborn as sns\n",
    "\n",
    "default_path=#enter the pathway\n",
    "os.chdir(default_path)"
   ]
  },
  {
   "cell_type": "markdown",
   "metadata": {},
   "source": [
    "Read the dataframes that we saved in the processed folder "
   ]
  },
  {
   "cell_type": "code",
   "execution_count": null,
   "metadata": {},
   "outputs": [],
   "source": [
    "df= pd.read_csv(\"data/processed/single_df_filled.csv\")\n",
    "man= pd.read_csv('data/processed/manAgers_man.csv')\n",
    "df.info()"
   ]
  },
  {
   "cell_type": "markdown",
   "metadata": {},
   "source": [
    "## Frequency table"
   ]
  },
  {
   "cell_type": "code",
   "execution_count": null,
   "metadata": {},
   "outputs": [],
   "source": [
    "#categorical variables\n",
    "cat_cols = ['host_count', 'network_count', 'Band', 'is_manager', 'Gender', 'promotion', 'expat', 'org_level', 'network', 'is_norsk', 'in_norge']\n",
    "#numerical variables\n",
    "num_cols = ['Age', 'service_length', 'absence_avg', 'attend_avg', 'travel_avg', 'certif', 'team_size']\n",
    "\n",
    "#Frequencies for the categorical variables\n",
    "for col in cat_cols:\n",
    "    print('\\n' + 'For column ' + col)\n",
    "    print(df[col].value_counts())\n"
   ]
  },
  {
   "cell_type": "markdown",
   "metadata": {},
   "source": [
    "# Frequency graphs\n",
    "## Categorical variables"
   ]
  },
  {
   "cell_type": "code",
   "execution_count": null,
   "metadata": {},
   "outputs": [],
   "source": [
    "for col in cat_cols:\n",
    "    fig = plt.figure(figsize=(6,6)) # define plot area\n",
    "    ax = fig.gca() # define axis    \n",
    "    counts = df[col].value_counts().sort_index() # find the counts for each unique category\n",
    "    counts.plot.bar(ax = ax, color = 'blue') # Use the plot.bar method on the counts data frame\n",
    "    ax.set_title('Number of employees by ' + col) # Give the plot a main title\n",
    "    ax.set_xlabel(col) # Set text for the x axis\n",
    "    ax.set_ylabel('Number of employees')# Set text for y axis\n",
    "    plt.show()\n",
    "    fig.savefig(('plots/'+'freq_'+col))\n",
    "\n",
    "\n",
    "    ax.set_xticks(x)    \n",
    "    ax.set_xticklabels(x_labels, rotation=90) #set the labels and rotate them 90 deg."
   ]
  },
  {
   "cell_type": "markdown",
   "metadata": {},
   "source": [
    "## Histograms for numerical"
   ]
  },
  {
   "cell_type": "code",
   "execution_count": null,
   "metadata": {},
   "outputs": [],
   "source": [
    "for col in num_cols:\n",
    "    fig = plt.figure(figsize=(6,6)) # define plot area\n",
    "    ax = fig.gca() # define axis    \n",
    "    df[col].plot.hist(ax = ax, bins = 10) # Use the plot.hist method on subset of the data frame\n",
    "    ax.set_title('Histogram of ' + col) # Give the plot a main title\n",
    "    ax.set_xlabel(col) # Set text for the x axis\n",
    "    ax.set_ylabel('Number of employees')# Set text for y axis\n",
    "    plt.show()"
   ]
  },
  {
   "cell_type": "markdown",
   "metadata": {},
   "source": [
    "# Exploration related to the Leavers\n",
    "## Mean differences and frequency "
   ]
  },
  {
   "cell_type": "code",
   "execution_count": null,
   "metadata": {},
   "outputs": [],
   "source": [
    "df.groupby('Leavers').mean()\n",
    "df['Leavers'].value_counts()"
   ]
  },
  {
   "cell_type": "markdown",
   "metadata": {},
   "source": [
    "## Leaver percentage per category level"
   ]
  },
  {
   "cell_type": "code",
   "execution_count": null,
   "metadata": {},
   "outputs": [],
   "source": [
    "for col in cat_cols:\n",
    "    means=df.groupby(col)['Leavers'].mean()\n",
    "    means.plot.bar(color = 'green')\n",
    "    plt.xlabel(col)\n",
    "    plt.ylabel('Leaver PercentAge')\n",
    "    plt.savefig(('plots/'+'leaver_perc_'+col), bbox_inches = \"tight\")\n",
    "    plt.figure()\n",
    "    plt.show()\n",
    "\n",
    "%matplotlib inline  \n",
    "cols=['is_manager', 'expat', 'is_norsk', 'in_norge']\n",
    "for col in cols:    \n",
    "    means=df.groupby(col)['Leavers'].mean()\n",
    "    means.plot.bar(color = 'green')\n",
    "    plt.xlabel(col)\n",
    "    plt.ylabel('Leaver PercentAge')  \n",
    "    plt.set_xticklabels(['No', 'Yes'], rotation=90) #set the labels and rotate them 90 deg.\n",
    "#    plt.savefig(('plots/'+'leaver_perc_'+col))\n",
    "    plt.figure()\n",
    "    plt.show()    \n",
    "    "
   ]
  },
  {
   "cell_type": "markdown",
   "metadata": {},
   "source": [
    "## Kernel density graph for numerical variables"
   ]
  },
  {
   "cell_type": "code",
   "execution_count": null,
   "metadata": {},
   "outputs": [],
   "source": [
    "for col in num_cols:\n",
    "    sns.set_style(\"whitegrid\")\n",
    "    sns.jointplot(col, 'service_length', data=df, kind='kde')\n",
    "    plt.xlabel(col) # Set text for the x axis\n",
    "    plt.ylabel('service_length')# Set text for y axis\n",
    "    plt.savefig(('plots/'+'kde_service_len'+col))"
   ]
  },
  {
   "cell_type": "markdown",
   "metadata": {},
   "source": [
    "## stackked bar chart color coded by Leavers"
   ]
  },
  {
   "cell_type": "code",
   "execution_count": null,
   "metadata": {},
   "outputs": [],
   "source": [
    "for col in cat_cols:\n",
    "    table=pd.crosstab(df[col],df['Leavers'])\n",
    "    table.div(table.sum(1).astype(float), axis=0).plot(kind='bar', stacked=True)\n",
    "    plt.title('PercentAge of Leavers by ' + col)\n",
    "    plt.xlabel(col)\n",
    "    plt.ylabel('Proportion of Employees')\n",
    "    plt.savefig(('plots/'+'leaver_prop_by_'+col))"
   ]
  },
  {
   "cell_type": "markdown",
   "metadata": {},
   "source": [
    "##  Boxplot and violin plot"
   ]
  },
  {
   "cell_type": "code",
   "execution_count": null,
   "metadata": {},
   "outputs": [],
   "source": [
    "for col in num_cols:\n",
    "    sns.set_style(\"whitegrid\")\n",
    "    sns.boxplot('Leavers', col, data=df)\n",
    "    plt.xlabel('Leavers') # Set text for the x axis\n",
    "    plt.ylabel(col)# Set text for y axis\n",
    "    plt.savefig(('plots/'+'leaver_box_by_'+col))\n",
    "    plt.figure()\n",
    "    plt.show()\n",
    "for col in num_cols:\n",
    "    sns.set_style(\"whitegrid\")\n",
    "    sns.violinplot('Leavers', col, data=df)\n",
    "    plt.xlabel('Leavers') # Set text for the x axis\n",
    "    plt.ylabel(col)# Set text for y axis\n",
    "    plt.show()\n",
    "    "
   ]
  },
  {
   "cell_type": "markdown",
   "metadata": {},
   "source": [
    "## Scatter plot\n",
    "Service len by another numerical variable from num_col\n",
    "  \n",
    "  split by Band and by Leavers\n",
    "  \n",
    "  color: manager id "
   ]
  },
  {
   "cell_type": "code",
   "execution_count": null,
   "metadata": {},
   "outputs": [],
   "source": [
    "num_cols = ['Age', 'absence_avg', 'attend_avg', 'travel_avg', 'certif']  \n",
    "band_dict={'PROF':3,'PRIN PROF':4,'LEAD PROF':5,'ASSOCIATE':2,'OPER & SUPP':1,\n",
    "           'MANAgeR':6, 'EXECUTIVE':7, 'SR EXEC':8}\n",
    "\n",
    "for col in num_cols:\n",
    "    g = sns.FacetGrid(df, col=\"Band\", row = 'Leavers', \n",
    "                  hue=\"is_manager\", palette=\"Set2\", margin_titles=True)\n",
    "    g.map(sns.regplot, col, \"service_length\", fit_reg = False)\n",
    "    for ax, title in zip(g.axes.flat, ['OPER & SUPP','ASSOCIATE','PROF','PRIN PROF','LEAD PROF',\n",
    "           'MANAgeR', 'EXECUTIVE', 'SR EXEC']):\n",
    "        ax.set_title(title)\n",
    "    plt.savefig(('plots/'+'scatter_by_'+col), dpi=900)\n"
   ]
  }
 ],
 "metadata": {
  "kernelspec": {
   "display_name": "Python 3",
   "language": "python",
   "name": "python3"
  },
  "language_info": {
   "codemirror_mode": {
    "name": "ipython",
    "version": 3
   },
   "file_extension": ".py",
   "mimetype": "text/x-python",
   "name": "python",
   "nbconvert_exporter": "python",
   "pygments_lexer": "ipython3",
   "version": "3.6.7"
  }
 },
 "nbformat": 4,
 "nbformat_minor": 2
}
